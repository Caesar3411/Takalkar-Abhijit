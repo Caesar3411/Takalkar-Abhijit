{
 "cells": [
  {
   "cell_type": "code",
   "execution_count": 1,
   "id": "1de72ab9",
   "metadata": {},
   "outputs": [],
   "source": [
    "from flask import Flask, request, jsonify\n",
    "from collections import defaultdict"
   ]
  },
  {
   "cell_type": "code",
   "execution_count": 2,
   "id": "c042ef1a",
   "metadata": {},
   "outputs": [],
   "source": [
    "app = Flask(__name__)"
   ]
  },
  {
   "cell_type": "code",
   "execution_count": 3,
   "id": "fd2cd502",
   "metadata": {},
   "outputs": [],
   "source": [
    "\n",
    "# Simple keyword map to simulate topic classification\n",
    "TOPIC_KEYWORDS = {\n",
    "    \"Math\": [\"pythagorean\", \"algebra\", \"geometry\", \"calculus\", \"equation\", \"integral\", \"matrix\"],\n",
    "    \"Science\": [\"gravity\", \"photosynthesis\", \"atom\", \"chemical\", \"physics\", \"biology\", \"experiment\"],\n",
    "    \"English\": [\"grammar\", \"literature\", \"sentence\", \"noun\", \"verb\", \"poem\", \"essay\"]\n",
    "}\n",
    "\n",
    "\n",
    "def classify_question(question):\n",
    "    \"\"\"Classify the question into a topic using keyword matching.\"\"\"\n",
    "    question_lower = question.lower()\n",
    "    scores = defaultdict(int)\n",
    "\n",
    "    for topic, keywords in TOPIC_KEYWORDS.items():\n",
    "        for word in keywords:\n",
    "            if word in question_lower:\n",
    "                scores[topic] += 1\n",
    "\n",
    "    if not scores:\n",
    "        return \"Unknown\", 0.5"
   ]
  },
  {
   "cell_type": "code",
   "execution_count": 4,
   "id": "fa7859e8",
   "metadata": {},
   "outputs": [],
   "source": [
    "def classify_question(question):\n",
    "    \"\"\"Classify the question into a topic using keyword matching.\"\"\"\n",
    "    question_lower = question.lower()\n",
    "    scores = defaultdict(int)\n",
    "\n",
    "    for topic, keywords in TOPIC_KEYWORDS.items():\n",
    "        for word in keywords:\n",
    "            if word in question_lower:\n",
    "                scores[topic] += 1\n",
    "\n",
    "    if not scores:\n",
    "        return \"Unknown\", 0.5\n",
    "\n",
    "    # ✅ This block must be inside this function\n",
    "    best_topic = max(scores, key=scores.get)\n",
    "    total_hits = sum(scores.values())\n",
    "    confidence = round(scores[best_topic] / total_hits, 2)\n",
    "\n",
    "    return best_topic, confidence"
   ]
  },
  {
   "cell_type": "code",
   "execution_count": 5,
   "id": "576e223c",
   "metadata": {},
   "outputs": [],
   "source": [
    "@app.route('/classify-question', methods=['POST'])\n",
    "def classify():\n",
    "    try:\n",
    "        data = request.get_json()\n",
    "\n",
    "        # ✅ Validate input\n",
    "        if not data or 'question' not in data:\n",
    "            return jsonify({\"error\": \"Missing 'question' in request body\"}), 400\n",
    "\n",
    "        question = data['question']\n",
    "\n",
    "        if not isinstance(question, str) or not question.strip():\n",
    "            return jsonify({\"error\": \"'question' must be a non-empty string\"}), 400\n",
    "\n",
    "        # ✅ Classify question\n",
    "        topic, confidence = classify_question(question)\n",
    "\n",
    "        return jsonify({\n",
    "            \"topic\": topic,\n",
    "            \"confidence\": confidence\n",
    "        }), 200\n",
    "\n",
    "    except Exception as e:\n",
    "        return jsonify({\"error\": \"Internal Server Error\", \"message\": str(e)}), 500\n"
   ]
  },
  {
   "cell_type": "code",
   "execution_count": 6,
   "id": "0e8af236",
   "metadata": {},
   "outputs": [],
   "source": [
    "@app.route('/classify-question', methods=['POST'])\n",
    "def classify_question_api():\n",
    "    try:\n",
    "        data = request.get_json()\n",
    "\n",
    "        # Validate input\n",
    "        if not data or 'question' not in data:\n",
    "            return jsonify({\"error\": \"Missing 'question' in request body\"}), 400\n",
    "\n",
    "        question = data['question']\n",
    "\n",
    "        if not isinstance(question, str) or not question.strip():\n",
    "            return jsonify({\"error\": \"'question' must be a non-empty string\"}), 400\n",
    "\n",
    "        # Classify question\n",
    "        topic, confidence = classify_question(question)\n",
    "\n",
    "        return jsonify({\n",
    "            \"topic\": topic,\n",
    "            \"confidence\": confidence\n",
    "        }), 200\n",
    "\n",
    "    except Exception as e:\n",
    "        return jsonify({\"error\": \"Internal Server Error\", \"message\": str(e)}), 500"
   ]
  },
  {
   "cell_type": "code",
   "execution_count": 7,
   "id": "85fdfb6e",
   "metadata": {},
   "outputs": [],
   "source": [
    "@app.route('/classify-question', methods=['POST'])\n",
    "def classify_question_handler():\n",
    "    try:\n",
    "        data = request.get_json()\n",
    "\n",
    "        # Validate input\n",
    "        if not data or 'question' not in data:\n",
    "            return jsonify({\"error\": \"Missing 'question' in request body\"}), 400\n",
    "\n",
    "        question = data['question']\n",
    "\n",
    "        if not isinstance(question, str) or not question.strip():\n",
    "            return jsonify({\"error\": \"'question' must be a non-empty string\"}), 400\n",
    "\n",
    "        # Classify question\n",
    "        topic, confidence = classify_question(question)\n",
    "\n",
    "        return jsonify({\n",
    "            \"topic\": topic,\n",
    "            \"confidence\": confidence\n",
    "        }), 200\n",
    "\n",
    "    except Exception as e:\n",
    "        return jsonify({\"error\": \"Internal Server Error\", \"message\": str(e)}), 500"
   ]
  },
  {
   "cell_type": "code",
   "execution_count": null,
   "id": "b59f08c5",
   "metadata": {},
   "outputs": [],
   "source": []
  }
 ],
 "metadata": {
  "kernelspec": {
   "display_name": "Python 3 (ipykernel)",
   "language": "python",
   "name": "python3"
  },
  "language_info": {
   "codemirror_mode": {
    "name": "ipython",
    "version": 3
   },
   "file_extension": ".py",
   "mimetype": "text/x-python",
   "name": "python",
   "nbconvert_exporter": "python",
   "pygments_lexer": "ipython3",
   "version": "3.11.5"
  }
 },
 "nbformat": 4,
 "nbformat_minor": 5
}
